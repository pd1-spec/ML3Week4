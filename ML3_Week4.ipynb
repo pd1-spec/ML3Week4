{
  "nbformat": 4,
  "nbformat_minor": 0,
  "metadata": {
    "colab": {
      "provenance": []
    },
    "kernelspec": {
      "name": "python3",
      "display_name": "Python 3"
    },
    "language_info": {
      "name": "python"
    }
  },
  "cells": [
    {
      "cell_type": "code",
      "execution_count": 1,
      "metadata": {
        "colab": {
          "base_uri": "https://localhost:8080/"
        },
        "id": "nI9ZjAv5F2xU",
        "outputId": "2d8affbc-5f76-4113-dad5-61b1c41ee996"
      },
      "outputs": [
        {
          "output_type": "stream",
          "name": "stdout",
          "text": [
            "Mounted at /content/drive\n"
          ]
        }
      ],
      "source": [
        "from google.colab import drive\n",
        "\n",
        "drive.mount('/content/drive')\n"
      ]
    },
    {
      "cell_type": "markdown",
      "source": [
        "# NLP with Disaster Tweets: A Kaggle Competition\n",
        "\n",
        "## Step 1: Problem Description\n",
        "\n",
        "### Introduction to the Problem\n",
        "The primary objective of this competition is to classify tweets into two categories: those that are related to real disasters and those that are not. This is a binary classification problem, meaning there are only two possible outputs: 1 for disaster-related tweets and 0 for non-disaster tweets.\n",
        "\n",
        "### Natural Language Processing (NLP)\n",
        "NLP is a field at the intersection of computer science, artificial intelligence, and linguistics. It involves enabling computers to understand, interpret, and respond to human language in a valuable way. In this project, we will utilize NLP techniques to extract features from tweet texts and classify them based on their content.\n",
        "\n",
        "### Dataset Overview\n",
        "- **Size**:\n",
        "  - The training dataset (`train.csv`) contains **7,613 tweets**.\n",
        "  - The test dataset (`test.csv`) consists of **3,253 tweets**.\n",
        "  \n",
        "- **Structure**:\n",
        "  - **train.csv**:\n",
        "    - `id`: A unique identifier for each tweet.\n",
        "    - `text`: The actual content of the tweet.\n",
        "    - `location`: The location from which the tweet was sent (this field may be blank).\n",
        "    - `keyword`: A relevant keyword from the tweet (this field may also be blank).\n",
        "    - `target`: This field is present only in `train.csv` and indicates whether the tweet is about a disaster (1) or not (0).\n",
        "    \n",
        "  - **test.csv**:\n",
        "    - `id`: A unique identifier for each tweet.\n",
        "    - `text`: The actual content of the tweet.\n",
        "    - `location`: The location from which the tweet was sent (this field may be blank).\n",
        "    - `keyword`: A relevant keyword from the tweet (this field may also be blank).\n",
        "    \n",
        "  - **sample_submission.csv**:\n",
        "    - `id`: A unique identifier for each tweet.\n",
        "    - `target`: The expected format for predicted classifications (1 or 0).\n"
      ],
      "metadata": {
        "id": "l_jWrggzHkMp"
      }
    },
    {
      "cell_type": "markdown",
      "source": [
        "##  Step 2: Exploratory Data Analysis (EDA) — Load, Inspect, Visualize and Clean the Data"
      ],
      "metadata": {
        "id": "jfTv7KfzIUkU"
      }
    },
    {
      "cell_type": "code",
      "source": [
        "# Step 1: Import Libraries\n",
        "# Import necessary libraries\n",
        "import pandas as pd\n",
        "import numpy as np\n",
        "import matplotlib.pyplot as plt\n",
        "import seaborn as sns\n",
        "from sklearn.model_selection import train_test_split, GridSearchCV\n",
        "from sklearn.linear_model import LogisticRegression\n",
        "from sklearn.metrics import classification_report\n",
        "from sklearn.feature_extraction.text import TfidfVectorizer\n",
        "from textblob import TextBlob\n",
        "import tensorflow as tf\n",
        "from tensorflow.keras.models import Sequential\n",
        "from tensorflow.keras.layers import Embedding, LSTM, Dense, GRU, Bidirectional\n",
        "from tensorflow.keras.preprocessing.sequence import pad_sequences\n",
        "\n",
        "# Load the datasets\n",
        "train_df = pd.read_csv('/content/drive/My Drive/train.csv')\n",
        "test_df = pd.read_csv('/content/drive/My Drive/test.csv')\n",
        "\n",
        "# Display the first few rows of the training dataset\n",
        "train_df.head()\n"
      ],
      "metadata": {
        "colab": {
          "base_uri": "https://localhost:8080/",
          "height": 206
        },
        "id": "BG6bF7uFHlT7",
        "outputId": "4676d2a1-879d-40ab-9a31-29854e2e3e4c"
      },
      "execution_count": 42,
      "outputs": [
        {
          "output_type": "execute_result",
          "data": {
            "text/plain": [
              "   id keyword location                                               text  \\\n",
              "0   1     NaN      NaN  Our Deeds are the Reason of this #earthquake M...   \n",
              "1   4     NaN      NaN             Forest fire near La Ronge Sask. Canada   \n",
              "2   5     NaN      NaN  All residents asked to 'shelter in place' are ...   \n",
              "3   6     NaN      NaN  13,000 people receive #wildfires evacuation or...   \n",
              "4   7     NaN      NaN  Just got sent this photo from Ruby #Alaska as ...   \n",
              "\n",
              "   target  \n",
              "0       1  \n",
              "1       1  \n",
              "2       1  \n",
              "3       1  \n",
              "4       1  "
            ],
            "text/html": [
              "\n",
              "  <div id=\"df-73af52c0-3fd0-4f6c-a5b3-84cbb2d4697d\" class=\"colab-df-container\">\n",
              "    <div>\n",
              "<style scoped>\n",
              "    .dataframe tbody tr th:only-of-type {\n",
              "        vertical-align: middle;\n",
              "    }\n",
              "\n",
              "    .dataframe tbody tr th {\n",
              "        vertical-align: top;\n",
              "    }\n",
              "\n",
              "    .dataframe thead th {\n",
              "        text-align: right;\n",
              "    }\n",
              "</style>\n",
              "<table border=\"1\" class=\"dataframe\">\n",
              "  <thead>\n",
              "    <tr style=\"text-align: right;\">\n",
              "      <th></th>\n",
              "      <th>id</th>\n",
              "      <th>keyword</th>\n",
              "      <th>location</th>\n",
              "      <th>text</th>\n",
              "      <th>target</th>\n",
              "    </tr>\n",
              "  </thead>\n",
              "  <tbody>\n",
              "    <tr>\n",
              "      <th>0</th>\n",
              "      <td>1</td>\n",
              "      <td>NaN</td>\n",
              "      <td>NaN</td>\n",
              "      <td>Our Deeds are the Reason of this #earthquake M...</td>\n",
              "      <td>1</td>\n",
              "    </tr>\n",
              "    <tr>\n",
              "      <th>1</th>\n",
              "      <td>4</td>\n",
              "      <td>NaN</td>\n",
              "      <td>NaN</td>\n",
              "      <td>Forest fire near La Ronge Sask. Canada</td>\n",
              "      <td>1</td>\n",
              "    </tr>\n",
              "    <tr>\n",
              "      <th>2</th>\n",
              "      <td>5</td>\n",
              "      <td>NaN</td>\n",
              "      <td>NaN</td>\n",
              "      <td>All residents asked to 'shelter in place' are ...</td>\n",
              "      <td>1</td>\n",
              "    </tr>\n",
              "    <tr>\n",
              "      <th>3</th>\n",
              "      <td>6</td>\n",
              "      <td>NaN</td>\n",
              "      <td>NaN</td>\n",
              "      <td>13,000 people receive #wildfires evacuation or...</td>\n",
              "      <td>1</td>\n",
              "    </tr>\n",
              "    <tr>\n",
              "      <th>4</th>\n",
              "      <td>7</td>\n",
              "      <td>NaN</td>\n",
              "      <td>NaN</td>\n",
              "      <td>Just got sent this photo from Ruby #Alaska as ...</td>\n",
              "      <td>1</td>\n",
              "    </tr>\n",
              "  </tbody>\n",
              "</table>\n",
              "</div>\n",
              "    <div class=\"colab-df-buttons\">\n",
              "\n",
              "  <div class=\"colab-df-container\">\n",
              "    <button class=\"colab-df-convert\" onclick=\"convertToInteractive('df-73af52c0-3fd0-4f6c-a5b3-84cbb2d4697d')\"\n",
              "            title=\"Convert this dataframe to an interactive table.\"\n",
              "            style=\"display:none;\">\n",
              "\n",
              "  <svg xmlns=\"http://www.w3.org/2000/svg\" height=\"24px\" viewBox=\"0 -960 960 960\">\n",
              "    <path d=\"M120-120v-720h720v720H120Zm60-500h600v-160H180v160Zm220 220h160v-160H400v160Zm0 220h160v-160H400v160ZM180-400h160v-160H180v160Zm440 0h160v-160H620v160ZM180-180h160v-160H180v160Zm440 0h160v-160H620v160Z\"/>\n",
              "  </svg>\n",
              "    </button>\n",
              "\n",
              "  <style>\n",
              "    .colab-df-container {\n",
              "      display:flex;\n",
              "      gap: 12px;\n",
              "    }\n",
              "\n",
              "    .colab-df-convert {\n",
              "      background-color: #E8F0FE;\n",
              "      border: none;\n",
              "      border-radius: 50%;\n",
              "      cursor: pointer;\n",
              "      display: none;\n",
              "      fill: #1967D2;\n",
              "      height: 32px;\n",
              "      padding: 0 0 0 0;\n",
              "      width: 32px;\n",
              "    }\n",
              "\n",
              "    .colab-df-convert:hover {\n",
              "      background-color: #E2EBFA;\n",
              "      box-shadow: 0px 1px 2px rgba(60, 64, 67, 0.3), 0px 1px 3px 1px rgba(60, 64, 67, 0.15);\n",
              "      fill: #174EA6;\n",
              "    }\n",
              "\n",
              "    .colab-df-buttons div {\n",
              "      margin-bottom: 4px;\n",
              "    }\n",
              "\n",
              "    [theme=dark] .colab-df-convert {\n",
              "      background-color: #3B4455;\n",
              "      fill: #D2E3FC;\n",
              "    }\n",
              "\n",
              "    [theme=dark] .colab-df-convert:hover {\n",
              "      background-color: #434B5C;\n",
              "      box-shadow: 0px 1px 3px 1px rgba(0, 0, 0, 0.15);\n",
              "      filter: drop-shadow(0px 1px 2px rgba(0, 0, 0, 0.3));\n",
              "      fill: #FFFFFF;\n",
              "    }\n",
              "  </style>\n",
              "\n",
              "    <script>\n",
              "      const buttonEl =\n",
              "        document.querySelector('#df-73af52c0-3fd0-4f6c-a5b3-84cbb2d4697d button.colab-df-convert');\n",
              "      buttonEl.style.display =\n",
              "        google.colab.kernel.accessAllowed ? 'block' : 'none';\n",
              "\n",
              "      async function convertToInteractive(key) {\n",
              "        const element = document.querySelector('#df-73af52c0-3fd0-4f6c-a5b3-84cbb2d4697d');\n",
              "        const dataTable =\n",
              "          await google.colab.kernel.invokeFunction('convertToInteractive',\n",
              "                                                    [key], {});\n",
              "        if (!dataTable) return;\n",
              "\n",
              "        const docLinkHtml = 'Like what you see? Visit the ' +\n",
              "          '<a target=\"_blank\" href=https://colab.research.google.com/notebooks/data_table.ipynb>data table notebook</a>'\n",
              "          + ' to learn more about interactive tables.';\n",
              "        element.innerHTML = '';\n",
              "        dataTable['output_type'] = 'display_data';\n",
              "        await google.colab.output.renderOutput(dataTable, element);\n",
              "        const docLink = document.createElement('div');\n",
              "        docLink.innerHTML = docLinkHtml;\n",
              "        element.appendChild(docLink);\n",
              "      }\n",
              "    </script>\n",
              "  </div>\n",
              "\n",
              "\n",
              "<div id=\"df-25d5e4d4-0c72-4fb8-b09c-98e0e0992993\">\n",
              "  <button class=\"colab-df-quickchart\" onclick=\"quickchart('df-25d5e4d4-0c72-4fb8-b09c-98e0e0992993')\"\n",
              "            title=\"Suggest charts\"\n",
              "            style=\"display:none;\">\n",
              "\n",
              "<svg xmlns=\"http://www.w3.org/2000/svg\" height=\"24px\"viewBox=\"0 0 24 24\"\n",
              "     width=\"24px\">\n",
              "    <g>\n",
              "        <path d=\"M19 3H5c-1.1 0-2 .9-2 2v14c0 1.1.9 2 2 2h14c1.1 0 2-.9 2-2V5c0-1.1-.9-2-2-2zM9 17H7v-7h2v7zm4 0h-2V7h2v10zm4 0h-2v-4h2v4z\"/>\n",
              "    </g>\n",
              "</svg>\n",
              "  </button>\n",
              "\n",
              "<style>\n",
              "  .colab-df-quickchart {\n",
              "      --bg-color: #E8F0FE;\n",
              "      --fill-color: #1967D2;\n",
              "      --hover-bg-color: #E2EBFA;\n",
              "      --hover-fill-color: #174EA6;\n",
              "      --disabled-fill-color: #AAA;\n",
              "      --disabled-bg-color: #DDD;\n",
              "  }\n",
              "\n",
              "  [theme=dark] .colab-df-quickchart {\n",
              "      --bg-color: #3B4455;\n",
              "      --fill-color: #D2E3FC;\n",
              "      --hover-bg-color: #434B5C;\n",
              "      --hover-fill-color: #FFFFFF;\n",
              "      --disabled-bg-color: #3B4455;\n",
              "      --disabled-fill-color: #666;\n",
              "  }\n",
              "\n",
              "  .colab-df-quickchart {\n",
              "    background-color: var(--bg-color);\n",
              "    border: none;\n",
              "    border-radius: 50%;\n",
              "    cursor: pointer;\n",
              "    display: none;\n",
              "    fill: var(--fill-color);\n",
              "    height: 32px;\n",
              "    padding: 0;\n",
              "    width: 32px;\n",
              "  }\n",
              "\n",
              "  .colab-df-quickchart:hover {\n",
              "    background-color: var(--hover-bg-color);\n",
              "    box-shadow: 0 1px 2px rgba(60, 64, 67, 0.3), 0 1px 3px 1px rgba(60, 64, 67, 0.15);\n",
              "    fill: var(--button-hover-fill-color);\n",
              "  }\n",
              "\n",
              "  .colab-df-quickchart-complete:disabled,\n",
              "  .colab-df-quickchart-complete:disabled:hover {\n",
              "    background-color: var(--disabled-bg-color);\n",
              "    fill: var(--disabled-fill-color);\n",
              "    box-shadow: none;\n",
              "  }\n",
              "\n",
              "  .colab-df-spinner {\n",
              "    border: 2px solid var(--fill-color);\n",
              "    border-color: transparent;\n",
              "    border-bottom-color: var(--fill-color);\n",
              "    animation:\n",
              "      spin 1s steps(1) infinite;\n",
              "  }\n",
              "\n",
              "  @keyframes spin {\n",
              "    0% {\n",
              "      border-color: transparent;\n",
              "      border-bottom-color: var(--fill-color);\n",
              "      border-left-color: var(--fill-color);\n",
              "    }\n",
              "    20% {\n",
              "      border-color: transparent;\n",
              "      border-left-color: var(--fill-color);\n",
              "      border-top-color: var(--fill-color);\n",
              "    }\n",
              "    30% {\n",
              "      border-color: transparent;\n",
              "      border-left-color: var(--fill-color);\n",
              "      border-top-color: var(--fill-color);\n",
              "      border-right-color: var(--fill-color);\n",
              "    }\n",
              "    40% {\n",
              "      border-color: transparent;\n",
              "      border-right-color: var(--fill-color);\n",
              "      border-top-color: var(--fill-color);\n",
              "    }\n",
              "    60% {\n",
              "      border-color: transparent;\n",
              "      border-right-color: var(--fill-color);\n",
              "    }\n",
              "    80% {\n",
              "      border-color: transparent;\n",
              "      border-right-color: var(--fill-color);\n",
              "      border-bottom-color: var(--fill-color);\n",
              "    }\n",
              "    90% {\n",
              "      border-color: transparent;\n",
              "      border-bottom-color: var(--fill-color);\n",
              "    }\n",
              "  }\n",
              "</style>\n",
              "\n",
              "  <script>\n",
              "    async function quickchart(key) {\n",
              "      const quickchartButtonEl =\n",
              "        document.querySelector('#' + key + ' button');\n",
              "      quickchartButtonEl.disabled = true;  // To prevent multiple clicks.\n",
              "      quickchartButtonEl.classList.add('colab-df-spinner');\n",
              "      try {\n",
              "        const charts = await google.colab.kernel.invokeFunction(\n",
              "            'suggestCharts', [key], {});\n",
              "      } catch (error) {\n",
              "        console.error('Error during call to suggestCharts:', error);\n",
              "      }\n",
              "      quickchartButtonEl.classList.remove('colab-df-spinner');\n",
              "      quickchartButtonEl.classList.add('colab-df-quickchart-complete');\n",
              "    }\n",
              "    (() => {\n",
              "      let quickchartButtonEl =\n",
              "        document.querySelector('#df-25d5e4d4-0c72-4fb8-b09c-98e0e0992993 button');\n",
              "      quickchartButtonEl.style.display =\n",
              "        google.colab.kernel.accessAllowed ? 'block' : 'none';\n",
              "    })();\n",
              "  </script>\n",
              "</div>\n",
              "\n",
              "    </div>\n",
              "  </div>\n"
            ],
            "application/vnd.google.colaboratory.intrinsic+json": {
              "type": "dataframe",
              "variable_name": "train_df",
              "summary": "{\n  \"name\": \"train_df\",\n  \"rows\": 7613,\n  \"fields\": [\n    {\n      \"column\": \"id\",\n      \"properties\": {\n        \"dtype\": \"number\",\n        \"std\": 3137,\n        \"min\": 1,\n        \"max\": 10873,\n        \"num_unique_values\": 7613,\n        \"samples\": [\n          3796,\n          3185,\n          7769\n        ],\n        \"semantic_type\": \"\",\n        \"description\": \"\"\n      }\n    },\n    {\n      \"column\": \"keyword\",\n      \"properties\": {\n        \"dtype\": \"category\",\n        \"num_unique_values\": 221,\n        \"samples\": [\n          \"injury\",\n          \"nuclear%20reactor\",\n          \"engulfed\"\n        ],\n        \"semantic_type\": \"\",\n        \"description\": \"\"\n      }\n    },\n    {\n      \"column\": \"location\",\n      \"properties\": {\n        \"dtype\": \"category\",\n        \"num_unique_values\": 3341,\n        \"samples\": [\n          \"Oklahoma\",\n          \"Starling City\",\n          \"Trinidad and Tobago\"\n        ],\n        \"semantic_type\": \"\",\n        \"description\": \"\"\n      }\n    },\n    {\n      \"column\": \"text\",\n      \"properties\": {\n        \"dtype\": \"string\",\n        \"num_unique_values\": 7503,\n        \"samples\": [\n          \"Three Homes Demolished in Unrecognized Arab Village - International Middle East Media Center http://t.co/ik8m4Yi9T4\",\n          \"Reid Lake fire prompts campground evacuation order http://t.co/jBODKM6rBU\",\n          \"FAAN orders evacuation of abandoned aircraft at MMA http://t.co/dEvYbnVXGQ via @todayng\"\n        ],\n        \"semantic_type\": \"\",\n        \"description\": \"\"\n      }\n    },\n    {\n      \"column\": \"target\",\n      \"properties\": {\n        \"dtype\": \"number\",\n        \"std\": 0,\n        \"min\": 0,\n        \"max\": 1,\n        \"num_unique_values\": 2,\n        \"samples\": [\n          0,\n          1\n        ],\n        \"semantic_type\": \"\",\n        \"description\": \"\"\n      }\n    }\n  ]\n}"
            }
          },
          "metadata": {},
          "execution_count": 42
        }
      ]
    },
    {
      "cell_type": "markdown",
      "source": [
        "### Data Inspection\n",
        "After loading the datasets, it's essential to inspect the first few rows of the training data. This helps to understand the structure and content of the data we are working with.\n",
        "\n",
        "### Data Cleaning Procedures\n",
        "Next, we will check for missing values to ensure the integrity of our dataset. Missing values can affect model performance, so we need to decide how to handle them.\n",
        "\n",
        "- **Check for Missing Values**: We will look for any null values in the columns, particularly in the `target` column, as these are crucial for our classification task.\n",
        "- **Drop Rows**: If we find any rows with missing values in the `target` column, we will drop those rows to maintain the accuracy of our labels.\n"
      ],
      "metadata": {
        "id": "nrOtNEtUHN__"
      }
    },
    {
      "cell_type": "markdown",
      "source": [
        "### Data Visualization\n",
        "To better understand the distribution of our target variable, we will create a count plot. This visualization will show how many tweets belong to each class (disaster vs. non-disaster). A balanced distribution is ideal for training our model effectively.\n",
        "\n"
      ],
      "metadata": {
        "id": "w-H9j3teJKjv"
      }
    },
    {
      "cell_type": "code",
      "source": [
        "# Handle missing values in training data\n",
        "train_df['keyword'] = train_df['keyword'].fillna('unknown')\n",
        "train_df['location'] = train_df['location'].fillna('unknown')\n",
        "train_df = train_df.dropna(subset=['target', 'text'])\n",
        "\n",
        "# Handle missing values in test data\n",
        "test_df['keyword'] = test_df['keyword'].fillna('unknown')\n",
        "test_df['location'] = test_df['location'].fillna('unknown')\n",
        "test_df = test_df.dropna(subset=['text'])\n",
        "\n",
        "# Display missing values\n",
        "print(\"Missing values in training dataset:\\n\", train_df.isnull().sum())\n",
        "print(\"Missing values in test dataset:\\n\", test_df.isnull().sum())\n",
        "\n",
        "\n",
        "\n",
        "\n",
        "# Visualize the distribution of the target variable\n",
        "plt.figure(figsize=(6, 4))\n",
        "sns.countplot(x='target', data=train_df)\n",
        "plt.title('Distribution of Target Variable')\n",
        "plt.xlabel('Target (1: Disaster, 0: Not Disaster)')\n",
        "plt.ylabel('Count')\n",
        "plt.show()\n"
      ],
      "metadata": {
        "colab": {
          "base_uri": "https://localhost:8080/",
          "height": 660
        },
        "id": "TKJrvftjH766",
        "outputId": "d4629619-4b78-4401-a4fb-c9bf950f89ea"
      },
      "execution_count": 30,
      "outputs": [
        {
          "output_type": "stream",
          "name": "stdout",
          "text": [
            "Missing values in training dataset:\n",
            " id           0\n",
            "keyword      0\n",
            "location     0\n",
            "text         0\n",
            "target       0\n",
            "sentiment    0\n",
            "dtype: int64\n",
            "Missing values in test dataset:\n",
            " id          0\n",
            "keyword     0\n",
            "location    0\n",
            "text        0\n",
            "dtype: int64\n"
          ]
        },
        {
          "output_type": "display_data",
          "data": {
            "text/plain": [
              "<Figure size 600x400 with 1 Axes>"
            ],
            "image/png": "[encoded data removed]"
          },
          "metadata": {}
        }
      ]
    },
    {
      "cell_type": "markdown",
      "source": [
        "## Step 3: Feature Engineering\n",
        "\n",
        "### Sentiment Analysis\n",
        "We will add a sentiment score for each tweet using the TextBlob library. This score may help the model understand the emotional context of the tweets.\n",
        "\n",
        "\n"
      ],
      "metadata": {
        "id": "BH0GGo9QJdqh"
      }
    },
    {
      "cell_type": "code",
      "source": [
        "# Sentiment Analysis\n",
        "train_df['sentiment'] = train_df['text'].apply(lambda x: TextBlob(x).sentiment.polarity)\n",
        "test_df['sentiment'] = test_df['text'].apply(lambda x: TextBlob(x).sentiment.polarity)\n"
      ],
      "metadata": {
        "id": "8__HBNx9SXxL"
      },
      "execution_count": 36,
      "outputs": []
    },
    {
      "cell_type": "markdown",
      "source": [
        "### Vectorization using TF-IDF\n",
        "Now, we will use the TF-IDF method to convert our tweet texts into a numerical format suitable for modeling.\n"
      ],
      "metadata": {
        "id": "u9bZ6vxnUfR7"
      }
    },
    {
      "cell_type": "code",
      "source": [
        "# Initialize the TF-IDF Vectorizer\n",
        "tfidf_vectorizer = TfidfVectorizer(max_features=5000)\n",
        "\n",
        "# Fit and transform the training text data\n",
        "X_train_tfidf = tfidf_vectorizer.fit_transform(train_df['text']).toarray()\n",
        "\n",
        "# Transform the test text data\n",
        "X_test_tfidf = tfidf_vectorizer.transform(test_df['text']).toarray()\n",
        "\n",
        "# Prepare labels for training\n",
        "y_train_tfidf = train_df['target'].values\n",
        "\n",
        "# Display the shape of the TF-IDF matrices\n",
        "print(\"TF-IDF Training Data Shape:\", X_train_tfidf.shape)\n",
        "print(\"TF-IDF Test Data Shape:\", X_test_tfidf.shape)\n"
      ],
      "metadata": {
        "colab": {
          "base_uri": "https://localhost:8080/"
        },
        "id": "cghrADG8UnxX",
        "outputId": "c109c284-127f-45ff-86f6-b1489a708f13"
      },
      "execution_count": 37,
      "outputs": [
        {
          "output_type": "stream",
          "name": "stdout",
          "text": [
            "TF-IDF Training Data Shape: (7613, 5000)\n",
            "TF-IDF Test Data Shape: (3263, 5000)\n"
          ]
        }
      ]
    },
    {
      "cell_type": "markdown",
      "source": [
        "## Step 4: Model Architecture with TF-IDF Features\n",
        "\n",
        "### Model 1: Logistic Regression with TF-IDF Features\n",
        "Let's use Logistic Regression with the TF-IDF features we just created.\n"
      ],
      "metadata": {
        "id": "PD1z9oh6Uw-U"
      }
    },
    {
      "cell_type": "code",
      "source": [
        "# Split the TF-IDF training data into training and validation sets\n",
        "X_train_tfidf_split, X_val_tfidf, y_train_tfidf_split, y_val_tfidf = train_test_split(\n",
        "    X_train_tfidf, y_train_tfidf, test_size=0.2, random_state=42)\n",
        "\n",
        "# Train the Logistic Regression model with TF-IDF features\n",
        "log_reg_tfidf = LogisticRegression(solver='liblinear')\n",
        "log_reg_tfidf.fit(X_train_tfidf_split, y_train_tfidf_split)\n",
        "\n",
        "# Evaluate the Logistic Regression model\n",
        "y_val_pred_log_reg_tfidf = log_reg_tfidf.predict(X_val_tfidf)\n",
        "print(\"Logistic Regression with TF-IDF Classification Report:\")\n",
        "print(classification_report(y_val_tfidf, y_val_pred_log_reg_tfidf))\n"
      ],
      "metadata": {
        "colab": {
          "base_uri": "https://localhost:8080/"
        },
        "id": "YyG5NloHUyJJ",
        "outputId": "de2ee548-091d-46a0-f282-8ab59718e041"
      },
      "execution_count": 38,
      "outputs": [
        {
          "output_type": "stream",
          "name": "stdout",
          "text": [
            "Logistic Regression with TF-IDF Classification Report:\n",
            "              precision    recall  f1-score   support\n",
            "\n",
            "           0       0.80      0.88      0.84       874\n",
            "           1       0.82      0.70      0.75       649\n",
            "\n",
            "    accuracy                           0.80      1523\n",
            "   macro avg       0.81      0.79      0.80      1523\n",
            "weighted avg       0.81      0.80      0.80      1523\n",
            "\n"
          ]
        }
      ]
    },
    {
      "cell_type": "markdown",
      "source": [
        "### Model 2: RNN\n",
        "Now, we will build and train a simple RNN model. This model will help us capture the sequential nature of the tweet texts.\n"
      ],
      "metadata": {
        "id": "GQ4XNXHHU1i7"
      }
    },
    {
      "cell_type": "code",
      "source": [
        "# Prepare RNN model input using the sentiment scores\n",
        "X_train_rnn = pad_sequences(X_train_tfidf_split, maxlen=100)\n",
        "X_val_rnn = pad_sequences(X_val_tfidf, maxlen=100)\n",
        "\n",
        "# Build RNN Model\n",
        "model_rnn = Sequential()\n",
        "model_rnn.add(Embedding(input_dim=5000, output_dim=128, input_length=100))\n",
        "model_rnn.add(LSTM(128, return_sequences=False))\n",
        "model_rnn.add(Dense(1, activation='sigmoid'))\n",
        "model_rnn.compile(loss='binary_crossentropy', optimizer='adam', metrics=['accuracy'])\n",
        "\n",
        "# Train RNN Model\n",
        "model_rnn.fit(X_train_rnn, y_train_tfidf_split, epochs=5, batch_size=64, validation_data=(X_val_rnn, y_val_tfidf))\n",
        "\n",
        "# Evaluate RNN Model\n",
        "y_val_pred_rnn = (model_rnn.predict(X_val_rnn) > 0.5).astype(\"int32\")\n",
        "print(\"RNN Classification Report:\")\n",
        "print(classification_report(y_val_tfidf, y_val_pred_rnn))\n"
      ],
      "metadata": {
        "colab": {
          "base_uri": "https://localhost:8080/"
        },
        "id": "ziVeSgjnU2-S",
        "outputId": "570ada24-247e-47a1-8eb3-fb4199ac3c30"
      },
      "execution_count": 39,
      "outputs": [
        {
          "output_type": "stream",
          "name": "stdout",
          "text": [
            "Epoch 1/5\n"
          ]
        },
        {
          "output_type": "stream",
          "name": "stderr",
          "text": [
            "/usr/local/lib/python3.10/dist-packages/keras/src/layers/core/embedding.py:90: UserWarning: Argument `input_length` is deprecated. Just remove it.\n",
            "  warnings.warn(\n"
          ]
        },
        {
          "output_type": "stream",
          "name": "stdout",
          "text": [
            "\u001b[1m96/96\u001b[0m \u001b[32m━━━━━━━━━━━━━━━━━━━━\u001b[0m\u001b[37m\u001b[0m \u001b[1m46s\u001b[0m 402ms/step - accuracy: 0.5664 - loss: 0.6858 - val_accuracy: 0.5739 - val_loss: 0.6826\n",
            "Epoch 2/5\n",
            "\u001b[1m96/96\u001b[0m \u001b[32m━━━━━━━━━━━━━━━━━━━━\u001b[0m\u001b[37m\u001b[0m \u001b[1m31s\u001b[0m 299ms/step - accuracy: 0.5716 - loss: 0.6836 - val_accuracy: 0.5739 - val_loss: 0.6822\n",
            "Epoch 3/5\n",
            "\u001b[1m96/96\u001b[0m \u001b[32m━━━━━━━━━━━━━━━━━━━━\u001b[0m\u001b[37m\u001b[0m \u001b[1m38s\u001b[0m 268ms/step - accuracy: 0.5715 - loss: 0.6833 - val_accuracy: 0.5739 - val_loss: 0.6823\n",
            "Epoch 4/5\n",
            "\u001b[1m96/96\u001b[0m \u001b[32m━━━━━━━━━━━━━━━━━━━━\u001b[0m\u001b[37m\u001b[0m \u001b[1m40s\u001b[0m 264ms/step - accuracy: 0.5756 - loss: 0.6821 - val_accuracy: 0.5739 - val_loss: 0.6822\n",
            "Epoch 5/5\n",
            "\u001b[1m96/96\u001b[0m \u001b[32m━━━━━━━━━━━━━━━━━━━━\u001b[0m\u001b[37m\u001b[0m \u001b[1m43s\u001b[0m 281ms/step - accuracy: 0.5678 - loss: 0.6843 - val_accuracy: 0.5739 - val_loss: 0.6825\n",
            "\u001b[1m48/48\u001b[0m \u001b[32m━━━━━━━━━━━━━━━━━━━━\u001b[0m\u001b[37m\u001b[0m \u001b[1m3s\u001b[0m 52ms/step\n",
            "RNN Classification Report:\n",
            "              precision    recall  f1-score   support\n",
            "\n",
            "           0       0.57      1.00      0.73       874\n",
            "           1       0.00      0.00      0.00       649\n",
            "\n",
            "    accuracy                           0.57      1523\n",
            "   macro avg       0.29      0.50      0.36      1523\n",
            "weighted avg       0.33      0.57      0.42      1523\n",
            "\n"
          ]
        },
        {
          "output_type": "stream",
          "name": "stderr",
          "text": [
            "/usr/local/lib/python3.10/dist-packages/sklearn/metrics/_classification.py:1531: UndefinedMetricWarning: Precision is ill-defined and being set to 0.0 in labels with no predicted samples. Use `zero_division` parameter to control this behavior.\n",
            "  _warn_prf(average, modifier, f\"{metric.capitalize()} is\", len(result))\n",
            "/usr/local/lib/python3.10/dist-packages/sklearn/metrics/_classification.py:1531: UndefinedMetricWarning: Precision is ill-defined and being set to 0.0 in labels with no predicted samples. Use `zero_division` parameter to control this behavior.\n",
            "  _warn_prf(average, modifier, f\"{metric.capitalize()} is\", len(result))\n",
            "/usr/local/lib/python3.10/dist-packages/sklearn/metrics/_classification.py:1531: UndefinedMetricWarning: Precision is ill-defined and being set to 0.0 in labels with no predicted samples. Use `zero_division` parameter to control this behavior.\n",
            "  _warn_prf(average, modifier, f\"{metric.capitalize()} is\", len(result))\n"
          ]
        }
      ]
    },
    {
      "cell_type": "markdown",
      "source": [
        "### Model 3: LSTM\n",
        "Next, we will build an LSTM model, which is known for handling long-term dependencies better than a standard RNN.\n"
      ],
      "metadata": {
        "id": "k7DSaLUeU5YF"
      }
    },
    {
      "cell_type": "code",
      "source": [
        "# Build LSTM Model\n",
        "model_lstm = Sequential()\n",
        "model_lstm.add(Embedding(input_dim=5000, output_dim=128, input_length=100))\n",
        "model_lstm.add(LSTM(128, return_sequences=False))\n",
        "model_lstm.add(Dense(1, activation='sigmoid'))\n",
        "model_lstm.compile(loss='binary_crossentropy', optimizer='adam', metrics=['accuracy'])\n",
        "\n",
        "# Train LSTM Model\n",
        "model_lstm.fit(X_train_rnn, y_train_tfidf_split, epochs=5, batch_size=64, validation_data=(X_val_rnn, y_val_tfidf))\n",
        "\n",
        "# Evaluate LSTM Model\n",
        "y_val_pred_lstm = (model_lstm.predict(X_val_rnn) > 0.5).astype(\"int32\")\n",
        "print(\"LSTM Classification Report:\")\n",
        "print(classification_report(y_val_tfidf, y_val_pred_lstm))\n"
      ],
      "metadata": {
        "colab": {
          "base_uri": "https://localhost:8080/"
        },
        "id": "5ivdrdulU7Hf",
        "outputId": "c8a2741a-4bd0-4107-cae6-83e41cbc6bdc"
      },
      "execution_count": 40,
      "outputs": [
        {
          "output_type": "stream",
          "name": "stdout",
          "text": [
            "Epoch 1/5\n"
          ]
        },
        {
          "output_type": "stream",
          "name": "stderr",
          "text": [
            "/usr/local/lib/python3.10/dist-packages/keras/src/layers/core/embedding.py:90: UserWarning: Argument `input_length` is deprecated. Just remove it.\n",
            "  warnings.warn(\n"
          ]
        },
        {
          "output_type": "stream",
          "name": "stdout",
          "text": [
            "\u001b[1m96/96\u001b[0m \u001b[32m━━━━━━━━━━━━━━━━━━━━\u001b[0m\u001b[37m\u001b[0m \u001b[1m29s\u001b[0m 278ms/step - accuracy: 0.5739 - loss: 0.6842 - val_accuracy: 0.5739 - val_loss: 0.6824\n",
            "Epoch 2/5\n",
            "\u001b[1m96/96\u001b[0m \u001b[32m━━━━━━━━━━━━━━━━━━━━\u001b[0m\u001b[37m\u001b[0m \u001b[1m23s\u001b[0m 240ms/step - accuracy: 0.5694 - loss: 0.6842 - val_accuracy: 0.5739 - val_loss: 0.6829\n",
            "Epoch 3/5\n",
            "\u001b[1m96/96\u001b[0m \u001b[32m━━━━━━━━━━━━━━━━━━━━\u001b[0m\u001b[37m\u001b[0m \u001b[1m41s\u001b[0m 240ms/step - accuracy: 0.5588 - loss: 0.6869 - val_accuracy: 0.5739 - val_loss: 0.6822\n",
            "Epoch 4/5\n",
            "\u001b[1m96/96\u001b[0m \u001b[32m━━━━━━━━━━━━━━━━━━━━\u001b[0m\u001b[37m\u001b[0m \u001b[1m42s\u001b[0m 248ms/step - accuracy: 0.5678 - loss: 0.6849 - val_accuracy: 0.5739 - val_loss: 0.6824\n",
            "Epoch 5/5\n",
            "\u001b[1m96/96\u001b[0m \u001b[32m━━━━━━━━━━━━━━━━━━━━\u001b[0m\u001b[37m\u001b[0m \u001b[1m41s\u001b[0m 249ms/step - accuracy: 0.5715 - loss: 0.6835 - val_accuracy: 0.5739 - val_loss: 0.6839\n",
            "\u001b[1m48/48\u001b[0m \u001b[32m━━━━━━━━━━━━━━━━━━━━\u001b[0m\u001b[37m\u001b[0m \u001b[1m3s\u001b[0m 50ms/step\n",
            "LSTM Classification Report:\n",
            "              precision    recall  f1-score   support\n",
            "\n",
            "           0       0.57      1.00      0.73       874\n",
            "           1       0.00      0.00      0.00       649\n",
            "\n",
            "    accuracy                           0.57      1523\n",
            "   macro avg       0.29      0.50      0.36      1523\n",
            "weighted avg       0.33      0.57      0.42      1523\n",
            "\n"
          ]
        },
        {
          "output_type": "stream",
          "name": "stderr",
          "text": [
            "/usr/local/lib/python3.10/dist-packages/sklearn/metrics/_classification.py:1531: UndefinedMetricWarning: Precision is ill-defined and being set to 0.0 in labels with no predicted samples. Use `zero_division` parameter to control this behavior.\n",
            "  _warn_prf(average, modifier, f\"{metric.capitalize()} is\", len(result))\n",
            "/usr/local/lib/python3.10/dist-packages/sklearn/metrics/_classification.py:1531: UndefinedMetricWarning: Precision is ill-defined and being set to 0.0 in labels with no predicted samples. Use `zero_division` parameter to control this behavior.\n",
            "  _warn_prf(average, modifier, f\"{metric.capitalize()} is\", len(result))\n",
            "/usr/local/lib/python3.10/dist-packages/sklearn/metrics/_classification.py:1531: UndefinedMetricWarning: Precision is ill-defined and being set to 0.0 in labels with no predicted samples. Use `zero_division` parameter to control this behavior.\n",
            "  _warn_prf(average, modifier, f\"{metric.capitalize()} is\", len(result))\n"
          ]
        }
      ]
    },
    {
      "cell_type": "markdown",
      "source": [
        "### Model 4: Bidirectional LSTM\n",
        "A Bidirectional LSTM can improve performance by processing the input in both directions, capturing more context.\n"
      ],
      "metadata": {
        "id": "-hp1kPmRU8xm"
      }
    },
    {
      "cell_type": "code",
      "source": [
        "# Build Bidirectional LSTM Model\n",
        "model_bi_lstm = Sequential()\n",
        "model_bi_lstm.add(Embedding(input_dim=5000, output_dim=128, input_length=100))\n",
        "model_bi_lstm.add(Bidirectional(LSTM(128)))\n",
        "model_bi_lstm.add(Dense(1, activation='sigmoid'))\n",
        "model_bi_lstm.compile(loss='binary_crossentropy', optimizer='adam', metrics=['accuracy'])\n",
        "\n",
        "# Train Bidirectional LSTM Model\n",
        "model_bi_lstm.fit(X_train_rnn, y_train_tfidf_split, epochs=5, batch_size=64, validation_data=(X_val_rnn, y_val_tfidf))\n",
        "\n",
        "# Evaluate Bidirectional LSTM Model\n",
        "y_val_pred_bi_lstm = (model_bi_lstm.predict(X_val_rnn) > 0.5).astype(\"int32\")\n",
        "print(\"Bidirectional LSTM Classification Report:\")\n",
        "print(classification_report(y_val_tfidf, y_val_pred_bi_lstm))\n"
      ],
      "metadata": {
        "colab": {
          "base_uri": "https://localhost:8080/"
        },
        "id": "bR4huCxqU-sv",
        "outputId": "394f0c1e-ac76-459b-eece-426905c88d34"
      },
      "execution_count": 44,
      "outputs": [
        {
          "metadata": {
            "tags": null
          },
          "name": "stdout",
          "output_type": "stream",
          "text": [
            "Epoch 1/5\n"
          ]
        },
        {
          "metadata": {
            "tags": null
          },
          "name": "stderr",
          "output_type": "stream",
          "text": [
            "/usr/local/lib/python3.10/dist-packages/keras/src/layers/core/embedding.py:90: UserWarning: Argument `input_length` is deprecated. Just remove it.\n",
            "  warnings.warn(\n"
          ]
        },
        {
          "output_type": "stream",
          "name": "stdout",
          "text": [
            "\u001b[1m96/96\u001b[0m \u001b[32m━━━━━━━━━━━━━━━━━━━━\u001b[0m\u001b[37m\u001b[0m \u001b[1m50s\u001b[0m 476ms/step - accuracy: 0.5696 - loss: 0.6850 - val_accuracy: 0.5739 - val_loss: 0.6834\n",
            "Epoch 2/5\n",
            "\u001b[1m96/96\u001b[0m \u001b[32m━━━━━━━━━━━━━━━━━━━━\u001b[0m\u001b[37m\u001b[0m \u001b[1m81s\u001b[0m 471ms/step - accuracy: 0.5746 - loss: 0.6828 - val_accuracy: 0.5739 - val_loss: 0.6856\n",
            "Epoch 3/5\n",
            "\u001b[1m96/96\u001b[0m \u001b[32m━━━━━━━━━━━━━━━━━━━━\u001b[0m\u001b[37m\u001b[0m \u001b[1m82s\u001b[0m 470ms/step - accuracy: 0.5767 - loss: 0.6830 - val_accuracy: 0.5739 - val_loss: 0.6826\n",
            "Epoch 4/5\n",
            "\u001b[1m96/96\u001b[0m \u001b[32m━━━━━━━━━━━━━━━━━━━━\u001b[0m\u001b[37m\u001b[0m \u001b[1m45s\u001b[0m 470ms/step - accuracy: 0.5656 - loss: 0.6847 - val_accuracy: 0.5739 - val_loss: 0.6822\n",
            "Epoch 5/5\n",
            "\u001b[1m96/96\u001b[0m \u001b[32m━━━━━━━━━━━━━━━━━━━━\u001b[0m\u001b[37m\u001b[0m \u001b[1m45s\u001b[0m 471ms/step - accuracy: 0.5709 - loss: 0.6835 - val_accuracy: 0.5739 - val_loss: 0.6823\n",
            "\u001b[1m48/48\u001b[0m \u001b[32m━━━━━━━━━━━━━━━━━━━━\u001b[0m\u001b[37m\u001b[0m \u001b[1m5s\u001b[0m 91ms/step\n",
            "Bidirectional LSTM Classification Report:\n",
            "              precision    recall  f1-score   support\n",
            "\n",
            "           0       0.57      1.00      0.73       874\n",
            "           1       0.00      0.00      0.00       649\n",
            "\n",
            "    accuracy                           0.57      1523\n",
            "   macro avg       0.29      0.50      0.36      1523\n",
            "weighted avg       0.33      0.57      0.42      1523\n",
            "\n"
          ]
        },
        {
          "output_type": "stream",
          "name": "stderr",
          "text": [
            "/usr/local/lib/python3.10/dist-packages/sklearn/metrics/_classification.py:1531: UndefinedMetricWarning: Precision is ill-defined and being set to 0.0 in labels with no predicted samples. Use `zero_division` parameter to control this behavior.\n",
            "  _warn_prf(average, modifier, f\"{metric.capitalize()} is\", len(result))\n",
            "/usr/local/lib/python3.10/dist-packages/sklearn/metrics/_classification.py:1531: UndefinedMetricWarning: Precision is ill-defined and being set to 0.0 in labels with no predicted samples. Use `zero_division` parameter to control this behavior.\n",
            "  _warn_prf(average, modifier, f\"{metric.capitalize()} is\", len(result))\n",
            "/usr/local/lib/python3.10/dist-packages/sklearn/metrics/_classification.py:1531: UndefinedMetricWarning: Precision is ill-defined and being set to 0.0 in labels with no predicted samples. Use `zero_division` parameter to control this behavior.\n",
            "  _warn_prf(average, modifier, f\"{metric.capitalize()} is\", len(result))\n"
          ]
        }
      ]
    },
    {
      "cell_type": "markdown",
      "source": [
        "### Model 5: GRU (Gated Recurrent Unit)\n",
        "Finally, we will build a GRU model, which is another variant of RNN that can be computationally efficient.\n"
      ],
      "metadata": {
        "id": "oIw2SLrJVAEm"
      }
    },
    {
      "cell_type": "code",
      "source": [
        "# Build GRU Model\n",
        "model_gru = Sequential()\n",
        "model_gru.add(Embedding(input_dim=5000, output_dim=128, input_length=100))\n",
        "model_gru.add(GRU(128, return_sequences=False))\n",
        "model_gru.add(Dense(1, activation='sigmoid'))\n",
        "model_gru.compile(loss='binary_crossentropy', optimizer='adam', metrics=['accuracy'])\n",
        "\n",
        "# Train GRU Model\n",
        "model_gru.fit(X_train_rnn, y_train_tfidf_split, epochs=5, batch_size=64, validation_data=(X_val_rnn, y_val_tfidf))\n",
        "\n",
        "# Evaluate GRU Model\n",
        "y_val_pred_gru = (model_gru.predict(X_val_rnn) > 0.5).astype(\"int32\")\n",
        "print(\"GRU Classification Report:\")\n",
        "print(classification_report(y_val_tfidf, y_val_pred_gru))\n"
      ],
      "metadata": {
        "colab": {
          "base_uri": "https://localhost:8080/"
        },
        "id": "mEfyqbW7VEwb",
        "outputId": "77ee325a-3e79-448b-85e0-8376f099e507"
      },
      "execution_count": 43,
      "outputs": [
        {
          "metadata": {
            "tags": null
          },
          "name": "stdout",
          "output_type": "stream",
          "text": [
            "Epoch 1/5\n"
          ]
        },
        {
          "metadata": {
            "tags": null
          },
          "name": "stderr",
          "output_type": "stream",
          "text": [
            "/usr/local/lib/python3.10/dist-packages/keras/src/layers/core/embedding.py:90: UserWarning: Argument `input_length` is deprecated. Just remove it.\n",
            "  warnings.warn(\n"
          ]
        },
        {
          "metadata": {
            "tags": null
          },
          "name": "stdout",
          "output_type": "stream",
          "text": [
            "\u001b[1m96/96\u001b[0m \u001b[32m━━━━━━━━━━━━━━━━━━━━\u001b[0m\u001b[37m\u001b[0m \u001b[1m31s\u001b[0m 257ms/step - accuracy: 0.5522 - loss: 0.6865 - val_accuracy: 0.5739 - val_loss: 0.6847\n",
            "Epoch 2/5\n",
            "\u001b[1m96/96\u001b[0m \u001b[32m━━━━━━━━━━━━━━━━━━━━\u001b[0m\u001b[37m\u001b[0m \u001b[1m40s\u001b[0m 252ms/step - accuracy: 0.5673 - loss: 0.6865 - val_accuracy: 0.5739 - val_loss: 0.6825\n",
            "Epoch 3/5\n",
            "\u001b[1m96/96\u001b[0m \u001b[32m━━━━━━━━━━━━━━━━━━━━\u001b[0m\u001b[37m\u001b[0m \u001b[1m41s\u001b[0m 250ms/step - accuracy: 0.5662 - loss: 0.6845 - val_accuracy: 0.5739 - val_loss: 0.6822\n",
            "Epoch 4/5\n",
            "\u001b[1m96/96\u001b[0m \u001b[32m━━━━━━━━━━━━━━━━━━━━\u001b[0m\u001b[37m\u001b[0m \u001b[1m41s\u001b[0m 250ms/step - accuracy: 0.5686 - loss: 0.6849 - val_accuracy: 0.5739 - val_loss: 0.6846\n",
            "Epoch 5/5\n",
            "\u001b[1m96/96\u001b[0m \u001b[32m━━━━━━━━━━━━━━━━━━━━\u001b[0m\u001b[37m\u001b[0m \u001b[1m41s\u001b[0m 250ms/step - accuracy: 0.5585 - loss: 0.6863 - val_accuracy: 0.5739 - val_loss: 0.6823\n",
            "\u001b[1m48/48\u001b[0m \u001b[32m━━━━━━━━━━━━━━━━━━━━\u001b[0m\u001b[37m\u001b[0m \u001b[1m2s\u001b[0m 30ms/step\n",
            "GRU Classification Report:\n",
            "              precision    recall  f1-score   support\n",
            "\n",
            "           0       0.57      1.00      0.73       874\n",
            "           1       0.00      0.00      0.00       649\n",
            "\n",
            "    accuracy                           0.57      1523\n",
            "   macro avg       0.29      0.50      0.36      1523\n",
            "weighted avg       0.33      0.57      0.42      1523\n",
            "\n"
          ]
        },
        {
          "metadata": {
            "tags": null
          },
          "name": "stderr",
          "output_type": "stream",
          "text": [
            "/usr/local/lib/python3.10/dist-packages/sklearn/metrics/_classification.py:1531: UndefinedMetricWarning: Precision is ill-defined and being set to 0.0 in labels with no predicted samples. Use `zero_division` parameter to control this behavior.\n",
            "  _warn_prf(average, modifier, f\"{metric.capitalize()} is\", len(result))\n",
            "/usr/local/lib/python3.10/dist-packages/sklearn/metrics/_classification.py:1531: UndefinedMetricWarning: Precision is ill-defined and being set to 0.0 in labels with no predicted samples. Use `zero_division` parameter to control this behavior.\n",
            "  _warn_prf(average, modifier, f\"{metric.capitalize()} is\", len(result))\n",
            "/usr/local/lib/python3.10/dist-packages/sklearn/metrics/_classification.py:1531: UndefinedMetricWarning: Precision is ill-defined and being set to 0.0 in labels with no predicted samples. Use `zero_division` parameter to control this behavior.\n",
            "  _warn_prf(average, modifier, f\"{metric.capitalize()} is\", len(result))\n"
          ]
        }
      ]
    },
    {
      "cell_type": "markdown",
      "source": [
        "## Conclusion\n",
        "\n",
        "### Summary of Results\n",
        "The classification results indicate that our Logistic Regression model with TF-IDF features achieved an accuracy of approximately 80%. The model showed balanced performance across both classes, with a precision of 0.81 and recall of 0.70 for disaster-related tweets (class 1). In contrast, the deep learning models (RNN, LSTM, GRU, and Bidirectional LSTM) performed poorly, with an accuracy of only 57%. These models failed to predict class 1 (disaster-related tweets) effectively, resulting in zero precision and recall for that class.\n",
        "\n",
        "### Challenges Faced\n",
        "1. **Class Imbalance**: The dataset appears to have an imbalance, with fewer disaster-related tweets (class 1) compared to non-disaster tweets (class 0). This imbalance can significantly affect the performance of models, especially deep learning architectures.\n",
        "2. **Model Complexity**: The more complex models (RNN, LSTM, GRU, and Bidirectional LSTM) struggled to learn effectively from the training data, possibly due to insufficient training epochs or inadequate data preprocessing.\n",
        "\n",
        "\n",
        "\n",
        "\n"
      ],
      "metadata": {
        "id": "sqZNbWg5ZNAU"
      }
    },
    {
      "cell_type": "markdown",
      "source": [
        "## Data Preprocessing Enhancements\n",
        "\n",
        "We will enhance the preprocessing steps by cleaning the text data and ensuring proper tokenization and padding.\n"
      ],
      "metadata": {
        "id": "H4eT_wNpcAhl"
      }
    },
    {
      "cell_type": "code",
      "source": [
        "import pandas as pd\n",
        "import re\n",
        "from tensorflow.keras.preprocessing.text import Tokenizer\n",
        "from tensorflow.keras.preprocessing.sequence import pad_sequences\n",
        "\n",
        "# Clean text data\n",
        "def clean_text(text):\n",
        "    text = re.sub(r'http\\S+|www\\S+|https\\S+', '', text)  # Remove URLs\n",
        "    text = re.sub(r'@\\w+', '', text)  # Remove mentions\n",
        "    text = re.sub(r'[^a-zA-Z\\s]', '', text)  # Remove special characters\n",
        "    return text.lower()  # Lowercase the text\n",
        "\n",
        "train_df['text'] = train_df['text'].apply(clean_text)\n",
        "\n",
        "# Tokenization\n",
        "tokenizer = Tokenizer(num_words=5000)\n",
        "tokenizer.fit_on_texts(train_df['text'])\n",
        "X_train_seq = tokenizer.texts_to_sequences(train_df['text'])\n",
        "X_train_pad = pad_sequences(X_train_seq, maxlen=100)\n",
        "\n",
        "# Prepare target variable\n",
        "y_train = train_df['target'].values\n"
      ],
      "metadata": {
        "id": "Hn2Efsb_cCen"
      },
      "execution_count": 53,
      "outputs": []
    },
    {
      "cell_type": "markdown",
      "source": [
        "## Improved RNN Model with Enhanced Preprocessing\n",
        "\n",
        "We will now define and train an improved RNN model with the enhanced preprocessed data.\n"
      ],
      "metadata": {
        "id": "tutrsGjhcGNq"
      }
    },
    {
      "cell_type": "code",
      "source": [
        "from tensorflow.keras.models import Sequential\n",
        "from tensorflow.keras.layers import SimpleRNN, Embedding, Dense, Dropout, BatchNormalization\n",
        "\n",
        "# Improved RNN Model\n",
        "improved_rnn_model = Sequential()\n",
        "improved_rnn_model.add(Embedding(input_dim=5000, output_dim=128))\n",
        "improved_rnn_model.add(SimpleRNN(128, return_sequences=True))  # First RNN layer\n",
        "improved_rnn_model.add(BatchNormalization())  # Batch Normalization\n",
        "improved_rnn_model.add(Dropout(0.5))  # Dropout for regularization\n",
        "improved_rnn_model.add(SimpleRNN(64))  # Second RNN layer\n",
        "improved_rnn_model.add(Dropout(0.5))  # Dropout for regularization\n",
        "improved_rnn_model.add(Dense(1, activation='sigmoid'))\n",
        "\n",
        "# Compile the model\n",
        "improved_rnn_model.compile(loss='binary_crossentropy', optimizer='adam', metrics=['accuracy'])\n",
        "\n",
        "# Train Improved RNN Model on all data\n",
        "improved_rnn_model.fit(X_train_pad, y_train,\n",
        "                        epochs=10, batch_size=64)  # Use all data for training\n",
        "\n",
        "# Evaluate the model on the entire dataset\n",
        "y_pred = (improved_rnn_model.predict(X_train_pad) > 0.5).astype(\"int32\")\n",
        "print(\"Improved RNN Classification Report:\")\n",
        "from sklearn.metrics import classification_report\n",
        "print(classification_report(y_train, y_pred))\n"
      ],
      "metadata": {
        "colab": {
          "base_uri": "https://localhost:8080/"
        },
        "id": "hbn_tFoMcGxC",
        "outputId": "f74d6c2c-5ce3-4f74-ce51-1756ada2014e"
      },
      "execution_count": 54,
      "outputs": [
        {
          "output_type": "stream",
          "name": "stdout",
          "text": [
            "Epoch 1/10\n",
            "\u001b[1m119/119\u001b[0m \u001b[32m━━━━━━━━━━━━━━━━━━━━\u001b[0m\u001b[37m\u001b[0m \u001b[1m20s\u001b[0m 119ms/step - accuracy: 0.5166 - loss: 0.8428\n",
            "Epoch 2/10\n",
            "\u001b[1m119/119\u001b[0m \u001b[32m━━━━━━━━━━━━━━━━━━━━\u001b[0m\u001b[37m\u001b[0m \u001b[1m21s\u001b[0m 125ms/step - accuracy: 0.7212 - loss: 0.5647\n",
            "Epoch 3/10\n",
            "\u001b[1m119/119\u001b[0m \u001b[32m━━━━━━━━━━━━━━━━━━━━\u001b[0m\u001b[37m\u001b[0m \u001b[1m20s\u001b[0m 119ms/step - accuracy: 0.8254 - loss: 0.4304\n",
            "Epoch 4/10\n",
            "\u001b[1m119/119\u001b[0m \u001b[32m━━━━━━━━━━━━━━━━━━━━\u001b[0m\u001b[37m\u001b[0m \u001b[1m14s\u001b[0m 120ms/step - accuracy: 0.8733 - loss: 0.3265\n",
            "Epoch 5/10\n",
            "\u001b[1m119/119\u001b[0m \u001b[32m━━━━━━━━━━━━━━━━━━━━\u001b[0m\u001b[37m\u001b[0m \u001b[1m15s\u001b[0m 122ms/step - accuracy: 0.9025 - loss: 0.2557\n",
            "Epoch 6/10\n",
            "\u001b[1m119/119\u001b[0m \u001b[32m━━━━━━━━━━━━━━━━━━━━\u001b[0m\u001b[37m\u001b[0m \u001b[1m21s\u001b[0m 124ms/step - accuracy: 0.9346 - loss: 0.1838\n",
            "Epoch 7/10\n",
            "\u001b[1m119/119\u001b[0m \u001b[32m━━━━━━━━━━━━━━━━━━━━\u001b[0m\u001b[37m\u001b[0m \u001b[1m15s\u001b[0m 122ms/step - accuracy: 0.9487 - loss: 0.1479\n",
            "Epoch 8/10\n",
            "\u001b[1m119/119\u001b[0m \u001b[32m━━━━━━━━━━━━━━━━━━━━\u001b[0m\u001b[37m\u001b[0m \u001b[1m21s\u001b[0m 123ms/step - accuracy: 0.9571 - loss: 0.1311\n",
            "Epoch 9/10\n",
            "\u001b[1m119/119\u001b[0m \u001b[32m━━━━━━━━━━━━━━━━━━━━\u001b[0m\u001b[37m\u001b[0m \u001b[1m20s\u001b[0m 123ms/step - accuracy: 0.9673 - loss: 0.1039\n",
            "Epoch 10/10\n",
            "\u001b[1m119/119\u001b[0m \u001b[32m━━━━━━━━━━━━━━━━━━━━\u001b[0m\u001b[37m\u001b[0m \u001b[1m20s\u001b[0m 123ms/step - accuracy: 0.9720 - loss: 0.0905\n",
            "\u001b[1m238/238\u001b[0m \u001b[32m━━━━━━━━━━━━━━━━━━━━\u001b[0m\u001b[37m\u001b[0m \u001b[1m6s\u001b[0m 25ms/step\n",
            "Improved RNN Classification Report:\n",
            "              precision    recall  f1-score   support\n",
            "\n",
            "           0       0.60      1.00      0.75      4342\n",
            "           1       1.00      0.13      0.23      3271\n",
            "\n",
            "    accuracy                           0.62      7613\n",
            "   macro avg       0.80      0.56      0.49      7613\n",
            "weighted avg       0.77      0.62      0.53      7613\n",
            "\n"
          ]
        }
      ]
    },
    {
      "cell_type": "markdown",
      "source": [
        "##Conclusion\n",
        "The comparison highlights that while the Improved RNN model has the potential to achieve high precision in predicting disaster tweets, it currently lacks the ability to generalize well across both classes. The Logistic Regression model, on the other hand, performs consistently across both classes, achieving higher accuracy and a better balance between precision and recall."
      ],
      "metadata": {
        "id": "PM9wuQEEgIHb"
      }
    },
    {
      "cell_type": "markdown",
      "source": [
        "## Step 5: Predictions on the Test Set\n",
        "\n",
        "\n"
      ],
      "metadata": {
        "id": "N5uEm8sGJzSg"
      }
    },
    {
      "cell_type": "code",
      "source": [
        "\n",
        "\n",
        "# Clean test data using the same cleaning function\n",
        "test_df['text'] = test_df['text'].apply(clean_text)\n",
        "\n",
        "# Tokenization for the test data\n",
        "X_test_seq = tokenizer.texts_to_sequences(test_df['text'])\n",
        "X_test_pad = pad_sequences(X_test_seq, maxlen=100)\n",
        "\n",
        "# Make predictions on the test data\n",
        "y_test_pred = (improved_rnn_model.predict(X_test_pad) > 0.5).astype(\"int32\")\n",
        "\n",
        "# Prepare the submission dataframe\n",
        "submission_df = pd.DataFrame({\n",
        "    'id': test_df['id'],\n",
        "    'target': y_test_pred.flatten()  # Flatten to match the expected shape\n",
        "})\n",
        "\n",
        "# Save the submission file\n",
        "submission_df.to_csv('submission.csv', index=False)\n",
        "print(\"Submission file created: submission.csv\")\n",
        "print(submission_df.head())"
      ],
      "metadata": {
        "colab": {
          "base_uri": "https://localhost:8080/"
        },
        "id": "brXqLQFFJxTT",
        "outputId": "f4c5e11c-60a8-4184-8acb-19ada363e6df"
      },
      "execution_count": 58,
      "outputs": [
        {
          "output_type": "stream",
          "name": "stdout",
          "text": [
            "\u001b[1m102/102\u001b[0m \u001b[32m━━━━━━━━━━━━━━━━━━━━\u001b[0m\u001b[37m\u001b[0m \u001b[1m6s\u001b[0m 56ms/step\n",
            "Submission file created: submission.csv\n",
            "   id  target\n",
            "0   0       0\n",
            "1   2       0\n",
            "2   3       0\n",
            "3   9       0\n",
            "4  11       0\n"
          ]
        }
      ]
    }
  ]
}